{
  "nbformat": 4,
  "nbformat_minor": 0,
  "metadata": {
    "colab": {
      "provenance": []
    },
    "kernelspec": {
      "name": "python3",
      "display_name": "Python 3"
    },
    "language_info": {
      "name": "python"
    }
  },
  "cells": [
    {
      "cell_type": "markdown",
      "source": [
        "#Assignment - PYTHON OOPS Questions\n",
        "\n",
        "Q1. What is Object-Oriented Programming (OOP)?\n",
        "\n",
        "---> Object-Oriented Programming (OOP) is a programming approach that organizes code by grouping related data and functions into objects.\n",
        "\n",
        "Key Concepts:\n",
        "Class: A blueprint for creating objects. It defines properties (attributes) and behaviors (methods).\n",
        "\n",
        "Object: An instance of a class with actual values.\n",
        "\n",
        "Encapsulation: Hides internal details and only exposes necessary parts.\n",
        "\n",
        "Inheritance: Allows one class to use the properties and methods of another class.\n",
        "\n",
        "Polymorphism: Same method behaves differently based on the object.\n",
        "\n",
        "Abstraction: Shows only essential features and hides complex details.\n",
        "\n",
        "Q2. What is a class in OOP?\n",
        "\n",
        "---> In Object-Oriented Programming (OOP), a class is a blueprint or template for creating objects.\n",
        "\n",
        "For example, a \"Car\" class might describe properties like color, brand, and speed, and actions like start or stop.\n",
        "\n",
        "But it’s not an actual car — just a plan to make cars (objects).\n",
        "\n",
        "Q3. What is an object in OOP?\n",
        "\n",
        "---> In Object-Oriented Programming (OOP), an object is a specific instance of a class — it's like a real, usable thing created from the class blueprint.\n",
        "An object is the actual car built from that design (e.g., your red Toyota).\n",
        "\n",
        "Q4. What is the difference between abstraction and encapsulation?\n",
        "\n",
        "---> Abstraction – Focus on \"What\"\n",
        "Definition: Hides unnecessary details and shows only the essential features of an object.\n",
        "\n",
        "Goal: To simplify complexity by exposing only relevant parts to the user.\n",
        "\n",
        "Example: You can use a car without knowing how the engine works.\n",
        "\n",
        "In Code: Achieved using abstract classes or interfaces.\n",
        "\n",
        "\n"
      ],
      "metadata": {
        "id": "bcSb1h12qRIL"
      }
    },
    {
      "cell_type": "code",
      "source": [
        "from abc import ABC, abstractmethod\n",
        "\n",
        "class Animal(ABC):\n",
        "    @abstractmethod\n",
        "    def make_sound(self):\n",
        "        pass\n"
      ],
      "metadata": {
        "id": "cwcjNCHFsSeK"
      },
      "execution_count": null,
      "outputs": []
    },
    {
      "cell_type": "markdown",
      "source": [
        "Encapsulation – Focus on \"How\"\n",
        "Definition: Wraps data and methods into a single unit and restricts access to some parts.\n",
        "\n",
        "Goal: To protect data from being changed accidentally.\n",
        "\n",
        "Example: The car engine is protected under the hood; you access it through buttons or controls.\n",
        "\n",
        "In Code: Achieved by using private/protected variables."
      ],
      "metadata": {
        "id": "RKJR3aHnsTtn"
      }
    },
    {
      "cell_type": "code",
      "source": [
        "class Person:\n",
        "    def __init__(self):\n",
        "        self.__age = 25  # private variable\n",
        "\n",
        "    def get_age(self):\n",
        "        return self.__age\n"
      ],
      "metadata": {
        "id": "h4nRsu_7sZgK"
      },
      "execution_count": null,
      "outputs": []
    },
    {
      "cell_type": "markdown",
      "source": [
        "Q5. What are dunder methods in Python?\n",
        "\n",
        "---> Dunder methods in Python (short for \"double underscore\" methods) are special methods that start and end with double underscores, like __init__, __str__, __len__, etc.\n",
        "\n",
        "They are also called magic methods and are used to customize how objects behave with built-in functions and operators.\n",
        "\n",
        "Q6.  Explain the concept of inheritance in OOP?\n",
        "\n",
        "---> Inheritance is a concept where one class (child) can reuse or inherit the properties and methods of another class (parent).\n",
        "\n",
        "Inheritance lets a new class extend or customize the behavior of an existing class without rewriting its code."
      ],
      "metadata": {
        "id": "gMyIdED9saIi"
      }
    },
    {
      "cell_type": "code",
      "source": [
        "# Parent class\n",
        "class Animal:\n",
        "    def speak(self):\n",
        "        print(\"This animal makes a sound.\")\n",
        "\n",
        "# Child class\n",
        "class Dog(Animal):\n",
        "    def bark(self):\n",
        "        print(\"The dog barks.\")\n",
        "\n",
        "# Using the child class\n",
        "d = Dog()\n",
        "d.speak()   # Inherited from Animal\n",
        "d.bark()    # From Dog class\n"
      ],
      "metadata": {
        "id": "HoNNu5qNtBVE"
      },
      "execution_count": null,
      "outputs": []
    },
    {
      "cell_type": "markdown",
      "source": [
        "Q7. What is polymorphism in OOP?\n",
        "\n",
        "---> Polymorphism means \"many forms\" — it allows objects of different classes to be treated as if they are the same type, as long as they share the same interface (like method names).\n",
        "\n",
        "Q8. How is encapsulation achieved in Python?\n",
        "\n",
        "---> Encapsulation is the concept of hiding internal details of an object and only exposing what’s necessary. It helps to protect data and keep code modular and secure."
      ],
      "metadata": {
        "id": "Tc4kKQ0-tCQt"
      }
    },
    {
      "cell_type": "code",
      "source": [
        "class Account:\n",
        "    def __init__(self, owner, balance):\n",
        "        self.owner = owner         # public\n",
        "        self._balance = balance    # protected\n",
        "        self.__pin = 1234          # private\n",
        "\n",
        "    def show_pin(self):\n",
        "        return self.__pin\n",
        "\n",
        "acc = Account(\"John\", 1000)\n",
        "\n",
        "print(acc.owner)        # OK\n",
        "print(acc._balance)     # Allowed but not recommended\n",
        "# print(acc.__pin)      # ❌ Error: private attribute\n",
        "print(acc.show_pin())   # ✅ Accessed via method\n"
      ],
      "metadata": {
        "id": "MU9CYrQHt9sx"
      },
      "execution_count": null,
      "outputs": []
    },
    {
      "cell_type": "markdown",
      "source": [
        "Benefits of Encapsulation:\n",
        "1.Protects data from accidental change\n",
        "\n",
        "2.Makes code easier to maintain\n",
        "\n",
        "3.Adds security\n",
        "\n",
        "4.Helps in data abstraction\n",
        "\n",
        "Q9. What is a constructor in Python?\n",
        "\n",
        "---> A constructor is a special method in Python that automatically runs when a new object is created from a class.\n",
        "It is used to initialize the object’s attributes.\n",
        "\n",
        "The constructor method is named as \"__init__()\"\n",
        "\n",
        "Q10. What are class and static methods in Python?\n",
        "\n",
        "---> In Python, class methods and static methods are two types of methods that are associated with a class, but differ in how they interact with the class and its instances.\n",
        "\n",
        "1. Class Method:\n",
        "A class method is a method that is bound to the class and not the instance of the class. It takes cls (the class itself) as its first argument, instead of self (which is the instance). Class methods are often used for factory methods or methods that modify class-level attributes.\n",
        "\n",
        "Syntax\n",
        "class MyClass:\n",
        "    @classmethod\n",
        "    def my_class_method(cls, arg1):\n",
        "        pass\n",
        "\n",
        "\n",
        "2. Static Method:\n",
        "A static method does not take self or cls as its first argument, and it doesn't interact with the class or instance directly. It behaves like a regular function but belongs to the class's namespace. Static methods are used when you want to perform an operation that doesn't modify class or instance state.\n",
        "\n",
        "Syntax:\n",
        "\n"
      ],
      "metadata": {
        "id": "7qkoAvSQt-hl"
      }
    },
    {
      "cell_type": "code",
      "source": [
        "class MyClass:\n",
        "    @staticmethod\n",
        "    def my_static_method(arg1):\n",
        "        pass\n"
      ],
      "metadata": {
        "id": "cNzDdiV8xjrH"
      },
      "execution_count": null,
      "outputs": []
    },
    {
      "cell_type": "markdown",
      "source": [
        "Q11. What is method overloading in Python?\n",
        "\n",
        "---> In Python, method overloading refers to the ability to define multiple methods with the same name but with different arguments (i.e., varying numbers or types of parameters). However, Python does not support traditional method overloading like some other languages (such as Java or C++), where you can define multiple methods with the same name but different parameter lists.\n",
        "\n",
        "\n",
        "1. Using Default Arguments:\n",
        "You can specify default values for method parameters, allowing the method to behave differently based on the number of arguments passed.\n",
        "\n"
      ],
      "metadata": {
        "id": "DxpZFmQUxkW3"
      }
    },
    {
      "cell_type": "code",
      "source": [
        "class Calculator:\n",
        "    def add(self, a, b=0):\n",
        "        return a + b\n",
        "\n",
        "calc = Calculator()\n",
        "print(calc.add(5))     # Output: 5 (uses default value for b)\n",
        "print(calc.add(5, 3))  # Output: 8 (uses provided value for b)\n"
      ],
      "metadata": {
        "id": "ddu1rnxAx0Ml"
      },
      "execution_count": null,
      "outputs": []
    },
    {
      "cell_type": "markdown",
      "source": [
        "2. Using Variable-Length Arguments (*args and **kwargs):\n",
        "If you want to allow a method to accept an arbitrary number of positional or keyword arguments, you can use *args (for positional arguments) and **kwargs (for keyword arguments).\n",
        "\n",
        "Example:"
      ],
      "metadata": {
        "id": "VfKGWTM7x0zy"
      }
    },
    {
      "cell_type": "code",
      "source": [
        "class Calculator:\n",
        "    def add(self, *args):\n",
        "        return sum(args)\n",
        "\n",
        "calc = Calculator()\n",
        "print(calc.add(5))           # Output: 5\n",
        "print(calc.add(5, 3))        # Output: 8\n",
        "print(calc.add(1, 2, 3, 4))  # Output: 10\n"
      ],
      "metadata": {
        "id": "bp7PAk0Jx62m"
      },
      "execution_count": null,
      "outputs": []
    },
    {
      "cell_type": "markdown",
      "source": [
        "3. Using Function Dispatching:\n",
        "Another approach is to use dispatching, where the method checks the types or number of arguments passed and calls different logic accordingly. You can manually check the argument types or use the functools.singledispatch decorator to achieve this.\n",
        "\n",
        "Example with singledispatch:"
      ],
      "metadata": {
        "id": "gjsIi1Rkx-_1"
      }
    },
    {
      "cell_type": "code",
      "source": [
        "from functools import singledispatch\n",
        "\n",
        "class Calculator:\n",
        "    @singledispatch\n",
        "    def add(self, a):\n",
        "        return a\n",
        "\n",
        "    @add.register(int)\n",
        "    def _(self, a, b):\n",
        "        return a + b\n",
        "\n",
        "    @add.register(str)\n",
        "    def _(self, a, b):\n",
        "        return a + \" \" + b\n",
        "\n",
        "calc = Calculator()\n",
        "print(calc.add(5))       # Output: 5 (for int)\n",
        "print(calc.add(5, 3))    # Output: 8 (for two ints)\n",
        "print(calc.add(\"Hello\", \"World\"))  # Output: Hello World (for two strings)\n"
      ],
      "metadata": {
        "id": "HAE7t3bUx_64"
      },
      "execution_count": null,
      "outputs": []
    },
    {
      "cell_type": "markdown",
      "source": [
        "Q12.  What is method overriding in OOP?\n",
        "\n",
        "---> Method overriding is a concept in Object-Oriented Programming (OOP) where a subclass provides its own implementation of a method that is already defined in its superclass. The subclass method \"overrides\" the method of the superclass, meaning it replaces the functionality of the inherited method with a new one.\n",
        "\n",
        "Overriding is typically used when you want to change or extend the behavior of an inherited method from the base class in the subclass.\n",
        "\n",
        "Key Points of Method Overriding:\n",
        "Same Method Name: The method in the subclass must have the same name as the method in the superclass.\n",
        "\n",
        "Same Signature: The method in the subclass should have the same number and type of parameters as the method in the superclass.\n",
        "\n",
        "Dynamic Dispatch: The method call is resolved at runtime, which allows the subclass method to be invoked instead of the superclass method when an object of the subclass calls the method."
      ],
      "metadata": {
        "id": "d9t7Mt7IyCNr"
      }
    },
    {
      "cell_type": "code",
      "source": [
        "class Animal:\n",
        "    def speak(self):\n",
        "        print(\"Animal makes a sound\")\n",
        "\n",
        "class Dog(Animal):\n",
        "    def speak(self):\n",
        "        print(\"Dog barks\")\n",
        "\n",
        "class Cat(Animal):\n",
        "    def speak(self):\n",
        "        print(\"Cat meows\")\n",
        "\n",
        "# Creating objects of Dog and Cat\n",
        "dog = Dog()\n",
        "cat = Cat()\n",
        "\n",
        "# Calling the overridden method\n",
        "dog.speak()  # Output: Dog barks\n",
        "cat.speak()  # Output: Cat meows\n"
      ],
      "metadata": {
        "id": "qC_h0dI4yZ_5"
      },
      "execution_count": null,
      "outputs": []
    },
    {
      "cell_type": "markdown",
      "source": [
        "Q13. What is a property decorator in Python?\n",
        "\n",
        "---> In Python, the @property decorator is used to define a method as a \"property.\" This allows you to access a method as if it were an attribute, without explicitly calling it like a method (i.e., without using parentheses). The @property decorator helps in creating getter, setter, and deleter methods that behave like attributes, providing better control over how data is accessed or modified."
      ],
      "metadata": {
        "id": "qZtGRLO0yanY"
      }
    },
    {
      "cell_type": "code",
      "source": [
        "class Circle:\n",
        "    def __init__(self, radius):\n",
        "        self._radius = radius  # Internal attribute\n",
        "\n",
        "    @property\n",
        "    def radius(self):\n",
        "        return self._radius\n",
        "\n",
        "    @property\n",
        "    def area(self):\n",
        "        return 3.14 * self._radius ** 2\n",
        "\n",
        "# Create a Circle object\n",
        "circle = Circle(5)\n",
        "\n",
        "# Accessing radius and area like attributes\n",
        "print(circle.radius)  # Output: 5\n",
        "print(circle.area)    # Output: 78.5\n"
      ],
      "metadata": {
        "id": "v9fd04njymHh"
      },
      "execution_count": null,
      "outputs": []
    },
    {
      "cell_type": "markdown",
      "source": [
        "Q14. Why is polymorphism important in OOP?\n",
        "\n",
        "---> In simpler terms, polymorphism enables a single method or function to work with objects of different types, allowing them to behave in different ways based on their actual class, even if they share a common interface (i.e., the same method signature).\n",
        "\n",
        "Q15. What is an abstract class in Python?\n",
        "\n",
        "---> Abstract classes are typically used when you want to define a base class that has some shared functionality but also contains abstract methods (methods that are declared but contain no implementation). Subclasses that inherit from an abstract class must implement these abstract methods.\n",
        "\n",
        "\n",
        "Key Features of an Abstract Class:\n",
        "Cannot be instantiated: You cannot create an instance of an abstract class directly.\n",
        "\n",
        "Abstract methods: Methods in an abstract class that are declared but not implemented. Subclasses are required to implement these methods.\n",
        "\n",
        "Provides a blueprint: An abstract class provides a blueprint for other classes to follow. It defines the common interface that derived classes must implement.\n",
        "\n",
        "Can have regular methods: Abstract classes can also have fully implemented methods, which may be shared by its subclasses.\n",
        "\n",
        "\n",
        "Q16. What are the advantages of OOP?\n",
        "\n",
        "---> Advantages\n",
        "\n",
        "1.Modularity: Code is organized into classes and objects, making it easier to manage and debug.\n",
        "\n",
        "2.Reusability: Code can be reused across projects using inheritance, reducing redundancy.\n",
        "\n",
        "3.Inheritance: Subclasses inherit behavior from parent classes, allowing code extension without modification.\n",
        "\n",
        "4.Polymorphism: Methods can operate on objects of different types, increasing flexibility.\n",
        "\n",
        "5.Abstraction: Hides complex implementation details, focusing on essential features.\n",
        "\n",
        "6.Maintainability: Easier to update or fix code since it’s modular and encapsulated.\n",
        "\n",
        "7.Scalability: New features can be added without affecting existing code.\n",
        "\n",
        "8.Security: Data is protected through encapsulation, controlling access.\n",
        "\n",
        "9.Real-World Mapping: OOP models real-world entities, making it intuitive.\n",
        "\n",
        "\n",
        "Q17. What is the difference between a class variable and an instance variable?\n",
        "\n",
        "---> The key difference between a class variable and an instance variable in Python is how they are stored and accessed in relation to the class and its objects.\n",
        "\n",
        "1. Class Variable:\n",
        "A class variable is shared by all instances of the class.\n",
        "\n",
        "It is defined inside the class but outside any instance methods (including the __init__ method).\n",
        "\n",
        "Class variables are accessed using the class name or an instance, but changes to it affect all instances.\n",
        "\n",
        "2. Instance Variable:\n",
        "An instance variable is specific to each object (instance) of the class.\n",
        "\n",
        "It is defined inside the __init__ method using self.\n",
        "\n",
        "Instance variables can have different values for each object of the class.\n",
        "\n",
        "\n",
        "\n",
        "Class Variable: Shared among all instances of the class. Defined inside the class but outside any methods.\n",
        "\n",
        "Instance Variable: Specific to each instance of the class. Defined inside the __init__ method using self.\n",
        "\n",
        "\n",
        "Q18. What is multiple inheritance in Python?\n",
        "\n",
        "---> Multiple inheritance in Python refers to a feature where a class can inherit attributes and methods from more than one parent class. This allows a child class to combine functionality from multiple base classes.\n",
        "\n",
        "\n",
        "Key Points:\n",
        "The child class inherits from two or more parent classes.\n",
        "\n",
        "It can access and use methods and properties from all its parent classes.\n",
        "\n",
        "The method resolution order (MRO) is used to determine the order in which base classes are searched when calling a method or accessing an attribute.\n",
        "\n",
        "Q19. Explain the purpose of ‘’__str__’ and ‘__repr__’ ‘ methods in Python?\n",
        "\n",
        "---> In Python, the __str__ and __repr__ methods are special methods used to define how objects of a class are represented as strings. They are primarily used when you try to print an object or inspect its representation in the interactive shell.\n",
        "\n",
        "1. __str__ Method:\n",
        "The __str__ method is intended to return a \"user-friendly\" string representation of an object.\n",
        "\n",
        "It is used by functions like print() and str(), which call the __str__ method to convert an object into a string that is easy to read or meaningful for the user.\n",
        "\n",
        "It should return a string that represents the object in a way that makes sense to an end user."
      ],
      "metadata": {
        "id": "bOCfE_sPymwg"
      }
    },
    {
      "cell_type": "code",
      "source": [
        "class Person:\n",
        "    def __init__(self, name, age):\n",
        "        self.name = name\n",
        "        self.age = age\n",
        "\n",
        "    def __str__(self):\n",
        "        return f\"Person(name={self.name}, age={self.age})\"\n",
        "\n",
        "person = Person(\"Alice\", 30)\n",
        "print(person)  # Output: Person(name=Alice, age=30)\n"
      ],
      "metadata": {
        "id": "Y_wzHN3e0d8S"
      },
      "execution_count": null,
      "outputs": []
    },
    {
      "cell_type": "markdown",
      "source": [
        "2. __repr__ Method:\n",
        "The __repr__ method is intended to return an \"official\" string representation of an object that could, ideally, be used to recreate the object using eval().\n",
        "\n",
        "It is used by functions like repr() and when you inspect objects in the interactive Python shell (i.e., when you just type the object’s name).\n",
        "\n",
        "The goal of __repr__ is to provide a precise and unambiguous string representation of the object, which could be useful for debugging or logging purposes."
      ],
      "metadata": {
        "id": "af8pmSJh0hTR"
      }
    },
    {
      "cell_type": "code",
      "source": [
        "class Person:\n",
        "    def __init__(self, name, age):\n",
        "        self.name = name\n",
        "        self.age = age\n",
        "\n",
        "    def __repr__(self):\n",
        "        return f\"Person('{self.name}', {self.age})\"\n",
        "\n",
        "person = Person(\"Bob\", 40)\n",
        "print(repr(person))  # Output: Person('Bob', 40)\n"
      ],
      "metadata": {
        "id": "BCzTBk3p0jUh"
      },
      "execution_count": null,
      "outputs": []
    },
    {
      "cell_type": "markdown",
      "source": [
        "Q20. What is the significance of the ‘super()’ function in Python?\n",
        "\n",
        "---> The super() function in Python is used to call methods from a parent class, enabling access to inherited methods and constructors. It’s particularly useful in:\n",
        "\n",
        "Calling Parent Methods: Allows calling methods of the parent class without explicitly referencing the parent class name.\n",
        "\n",
        "Constructor Initialization: Helps in calling the parent class’s __init__ method, ensuring proper initialization.\n",
        "\n",
        "Multiple Inheritance: Ensures correct method resolution in complex inheritance hierarchies by respecting the method resolution order (MRO)."
      ],
      "metadata": {
        "id": "eNIVcgrU0lRL"
      }
    },
    {
      "cell_type": "code",
      "source": [
        "class Animal:\n",
        "    def speak(self):\n",
        "        print(\"Animal speaks\")\n",
        "\n",
        "class Dog(Animal):\n",
        "    def speak(self):\n",
        "        super().speak()  # Call parent method\n",
        "        print(\"Dog barks\")\n",
        "\n",
        "dog = Dog()\n",
        "dog.speak()\n"
      ],
      "metadata": {
        "id": "DzvvyT7K05FN"
      },
      "execution_count": null,
      "outputs": []
    },
    {
      "cell_type": "markdown",
      "source": [
        "Q21. What is the significance of the __del__ method in Python?\n",
        "\n",
        "---> The __del__ method in Python is a special method, known as a destructor, that is called when an object is about to be destroyed (i.e., when it is no longer referenced and is garbage collected).\n",
        "\n",
        "Significance of __del__:\n",
        "Cleanup: It allows you to clean up resources (e.g., closing files, network connections, or releasing external resources) before the object is destroyed.\n",
        "\n",
        "Automatic Resource Management: It’s useful for releasing resources that were acquired during the object's lifetime, ensuring that these resources are properly handled when the object is no longer needed.\n",
        "\n",
        "Q22. What is the difference between @staticmethod and @classmethod in Python?\n",
        "\n",
        "--->The difference between @staticmethod and @classmethod in Python lies in how they are bound to the class and how they interact with the class or instance.\n",
        "\n",
        "1. @staticmethod:\n",
        "A @staticmethod is a method that does not take self (instance) or cls (class) as its first argument.\n",
        "\n",
        "It behaves like a regular function but belongs to the class's namespace.\n",
        "\n",
        "It cannot access or modify the class or instance state, as it does not receive the instance (self) or class (cls) as an argument."
      ],
      "metadata": {
        "id": "q66sL2sP0_fg"
      }
    },
    {
      "cell_type": "code",
      "source": [
        "class MyClass:\n",
        "    @staticmethod\n",
        "    def greet(name):\n",
        "        print(f\"Hello, {name}!\")\n",
        "\n",
        "MyClass.greet(\"Alice\")  # Output: Hello, Alice!\n"
      ],
      "metadata": {
        "id": "doVXT-oW1ZWy"
      },
      "execution_count": null,
      "outputs": []
    },
    {
      "cell_type": "markdown",
      "source": [
        "Here, greet is a static method and does not need an instance or class to be called.\n",
        "\n",
        "2. @classmethod:\n",
        "A @classmethod is a method that takes cls (the class itself) as its first argument.\n",
        "\n",
        "It can access or modify class-level attributes, but it does not have access to instance-level attributes unless passed explicitly.\n",
        "\n",
        "It is often used for factory methods or methods that need to operate on the class itself rather than on an instance."
      ],
      "metadata": {
        "id": "eX2Vvg6r1Z-J"
      }
    },
    {
      "cell_type": "code",
      "source": [
        "class MyClass:\n",
        "    class_variable = \"I am a class variable\"\n",
        "\n",
        "    @classmethod\n",
        "    def display_class_variable(cls):\n",
        "        print(cls.class_variable)\n",
        "\n",
        "MyClass.display_class_variable()  # Output: I am a class variable\n"
      ],
      "metadata": {
        "id": "n9FLfvBB1dsK"
      },
      "execution_count": null,
      "outputs": []
    },
    {
      "cell_type": "markdown",
      "source": [
        "Q23.  How does polymorphism work in Python with inheritance?\n",
        "\n",
        "---> Polymorphism in Python allows objects of different classes to be treated as instances of the same class through inheritance. It enables method overriding, where a subclass provides a specific implementation of a method defined in the parent class."
      ],
      "metadata": {
        "id": "B1GIGXeI1eTP"
      }
    },
    {
      "cell_type": "code",
      "source": [
        "class Animal:\n",
        "    def speak(self):\n",
        "        print(\"Animal speaks\")\n",
        "\n",
        "class Dog(Animal):\n",
        "    def speak(self):\n",
        "        print(\"Dog barks\")\n",
        "\n",
        "class Cat(Animal):\n",
        "    def speak(self):\n",
        "        print(\"Cat meows\")\n",
        "\n",
        "def animal_sound(animal):\n",
        "    animal.speak()\n",
        "\n",
        "dog = Dog()\n",
        "cat = Cat()\n",
        "\n",
        "animal_sound(dog)  # Output: Dog barks\n",
        "animal_sound(cat)  # Output: Cat meows\n"
      ],
      "metadata": {
        "id": "zdxbJRxS1poV"
      },
      "execution_count": null,
      "outputs": []
    },
    {
      "cell_type": "markdown",
      "source": [
        "Method overriding: Subclasses define their own version of a method.\n",
        "\n",
        "Polymorphism: Same method name works differently depending on the object type.\n",
        "\n",
        "Q24. What is method chaining in Python OOP?\n",
        "\n",
        "---> Method chaining in Python is a technique where multiple methods are called on the same object in a single line of code. This is possible when each method returns the object itself (usually self), allowing subsequent methods to be called on that object.\n"
      ],
      "metadata": {
        "id": "TAHC5viD1uN_"
      }
    },
    {
      "cell_type": "code",
      "source": [
        "class Calculator:\n",
        "    def __init__(self, value=0):\n",
        "        self.value = value\n",
        "\n",
        "    def add(self, num):\n",
        "        self.value += num\n",
        "        return self\n",
        "\n",
        "    def multiply(self, num):\n",
        "        self.value *= num\n",
        "        return self\n",
        "\n",
        "    def get_result(self):\n",
        "        return self.value\n",
        "\n",
        "# Method chaining\n",
        "result = Calculator().add(5).multiply(2).add(3).get_result()\n",
        "print(result)  # Output: 13\n"
      ],
      "metadata": {
        "id": "vk9Ofl4_15yR"
      },
      "execution_count": null,
      "outputs": []
    },
    {
      "cell_type": "markdown",
      "source": [
        "Q25. What is the purpose of the __call__ method in Python?\n",
        "\n",
        "---> The __call__ method in Python allows an instance of a class to be called like a function.\n",
        "\n",
        "Purpose:\n",
        "It lets you define behavior when an object is \"called\" using parentheses ()."
      ],
      "metadata": {
        "id": "CT7E1teu16Sv"
      }
    },
    {
      "cell_type": "code",
      "source": [
        "class Greeter:\n",
        "    def __call__(self, name):\n",
        "        print(f\"Hello, {name}!\")\n",
        "\n",
        "greet = Greeter()\n",
        "greet(\"Alice\")  # Output: Hello, Alice!\n"
      ],
      "metadata": {
        "id": "a-bRp4Pp2F5o"
      },
      "execution_count": null,
      "outputs": []
    },
    {
      "cell_type": "markdown",
      "source": [
        "Key Points:\n",
        "1.Enables function-like behavior for objects.\n",
        "\n",
        "2.Useful for making objects more flexible, like in decorators or callable classes.\n",
        "\n",
        "#Practical Questions\n",
        "\n",
        "Q1. Create a parent class Animal with a method speak() that prints a generic message. Create a child class Dog\n",
        "that overrides the speak() method to print \"Bark!\".\n",
        "\n",
        "--->"
      ],
      "metadata": {
        "id": "BqN0R7Wg2IOy"
      }
    },
    {
      "cell_type": "code",
      "source": [
        "class Animal:\n",
        "    def speak(self):\n",
        "        print(\"The animal makes a sound.\")\n",
        "\n",
        "class Dog(Animal):\n",
        "    def speak(self):\n",
        "        print(\"Bark!\")\n",
        "\n",
        "# Example usage\n",
        "a = Animal()\n",
        "a.speak()  # Output: The animal makes a sound.\n",
        "\n",
        "d = Dog()\n",
        "d.speak()  # Output: Bark!\n"
      ],
      "metadata": {
        "id": "-d7vGVlY2oig"
      },
      "execution_count": null,
      "outputs": []
    },
    {
      "cell_type": "markdown",
      "source": [
        "Q2. Write a program to create an abstract class Shape with a method area(). Derive classes Circle and Rectangle\n",
        "from it and implement the area() method in both.\n",
        "\n",
        "--->"
      ],
      "metadata": {
        "id": "1er0HY-42pNw"
      }
    },
    {
      "cell_type": "code",
      "source": [
        "from abc import ABC, abstractmethod\n",
        "import math\n",
        "\n",
        "class Shape(ABC):\n",
        "    @abstractmethod\n",
        "    def area(self):\n",
        "        pass\n",
        "\n",
        "class Circle(Shape):\n",
        "    def __init__(self, radius):\n",
        "        self.radius = radius\n",
        "\n",
        "    def area(self):\n",
        "        return math.pi * self.radius ** 2\n",
        "\n",
        "class Rectangle(Shape):\n",
        "    def __init__(self, width, height):\n",
        "        self.width = width\n",
        "        self.height = height\n",
        "\n",
        "    def area(self):\n",
        "        return self.width * self.height\n",
        "\n",
        "# Example usage\n",
        "circle = Circle(5)\n",
        "rectangle = Rectangle(4, 6)\n",
        "\n",
        "print(\"Circle area:\", circle.area())       # Output: Circle area: 78.5398...\n",
        "print(\"Rectangle area:\", rectangle.area()) # Output: Rectangle area: 24\n"
      ],
      "metadata": {
        "id": "WQzKv3pe2ttu"
      },
      "execution_count": null,
      "outputs": []
    },
    {
      "cell_type": "markdown",
      "source": [
        "Q3.  Implement a multi-level inheritance scenario where a class Vehicle has an attribute type. Derive a class Car\n",
        "and further derive a class ElectricCar that adds a battery attribute.\n",
        "\n",
        "--->"
      ],
      "metadata": {
        "id": "C9nKeq2i2v_C"
      }
    },
    {
      "cell_type": "code",
      "source": [
        "from abc import ABC, abstractmethod\n",
        "import math\n",
        "\n",
        "class Shape(ABC):\n",
        "    @abstractmethod\n",
        "    def area(self):\n",
        "        pass\n",
        "\n",
        "class Circle(Shape):\n",
        "    def __init__(self, radius):\n",
        "        self.radius = radius\n",
        "\n",
        "    def area(self):\n",
        "        return math.pi * self.radius ** 2\n",
        "\n",
        "class Rectangle(Shape):\n",
        "    def __init__(self, width, height):\n",
        "        self.width = width\n",
        "        self.height = height\n",
        "\n",
        "    def area(self):\n",
        "        return self.width * self.height\n",
        "\n",
        "# Example usage\n",
        "circle = Circle(5)\n",
        "rectangle = Rectangle(4, 6)\n",
        "\n",
        "print(\"Circle area:\", circle.area())       # Output: Circle area: 78.5398...\n",
        "print(\"Rectangle area:\", rectangle.area()) # Output: Rectangle area: 24\n"
      ],
      "metadata": {
        "id": "FsRyREfJ2-iw"
      },
      "execution_count": null,
      "outputs": []
    },
    {
      "cell_type": "markdown",
      "source": [
        "Q4.  Demonstrate polymorphism by creating a base class Bird with a method fly(). Create two derived classes\n",
        "Sparrow and Penguin that override the fly() method.\n",
        "--->\n"
      ],
      "metadata": {
        "id": "ABdIX-Oi2_Oz"
      }
    },
    {
      "cell_type": "code",
      "source": [
        "class Bird:\n",
        "    def fly(self):\n",
        "        print(\"Some birds can fly.\")\n",
        "\n",
        "class Sparrow(Bird):\n",
        "    def fly(self):\n",
        "        print(\"Sparrow flies high.\")\n",
        "\n",
        "class Penguin(Bird):\n",
        "    def fly(self):\n",
        "        print(\"Penguins cannot fly.\")\n",
        "\n",
        "# Polymorphism in action\n",
        "def bird_flight(bird):\n",
        "    bird.fly()\n",
        "\n",
        "# Example usage\n",
        "b1 = Sparrow()\n",
        "b2 = Penguin()\n",
        "\n",
        "bird_flight(b1)  # Output: Sparrow flies high.\n",
        "bird_flight(b2)  # Output: Penguins cannot fly.\n"
      ],
      "metadata": {
        "id": "lf9uu3mj3C8O"
      },
      "execution_count": null,
      "outputs": []
    },
    {
      "cell_type": "markdown",
      "source": [
        "Q5. Write a program to demonstrate encapsulation by creating a class BankAccount with private attributes\n",
        "balance and methods to deposit, withdraw, and check balance.\n",
        "\n",
        "--->"
      ],
      "metadata": {
        "id": "7PQsLB4X3LZQ"
      }
    },
    {
      "cell_type": "code",
      "source": [
        "class BankAccount:\n",
        "    def __init__(self, initial_balance=0):\n",
        "        self.__balance = initial_balance  # Private attribute\n",
        "\n",
        "    def deposit(self, amount):\n",
        "        if amount > 0:\n",
        "            self.__balance += amount\n",
        "            print(f\"Deposited: {amount}\")\n",
        "        else:\n",
        "            print(\"Invalid deposit amount.\")\n",
        "\n",
        "    def withdraw(self, amount):\n",
        "        if 0 < amount <= self.__balance:\n",
        "            self.__balance -= amount\n",
        "            print(f\"Withdrawn: {amount}\")\n",
        "        else:\n",
        "            print(\"Insufficient balance or invalid amount.\")\n",
        "\n",
        "    def check_balance(self):\n",
        "        print(f\"Current balance: {self.__balance}\")\n",
        "\n",
        "# Example usage\n",
        "account = BankAccount(1000)\n",
        "account.deposit(500)\n",
        "account.withdraw(200)\n",
        "account.check_balance()\n"
      ],
      "metadata": {
        "id": "9RizNxgD3buW"
      },
      "execution_count": null,
      "outputs": []
    },
    {
      "cell_type": "markdown",
      "source": [
        "Q6. Demonstrate runtime polymorphism using a method play() in a base class Instrument. Derive classes Guitar\n",
        "and Piano that implement their own version of play()\n",
        "\n",
        "--->"
      ],
      "metadata": {
        "id": "MZiv0hGl3cXs"
      }
    },
    {
      "cell_type": "code",
      "source": [
        "class Instrument:\n",
        "    def play(self):\n",
        "        print(\"Playing an instrument.\")\n",
        "\n",
        "class Guitar(Instrument):\n",
        "    def play(self):\n",
        "        print(\"Strumming the guitar.\")\n",
        "\n",
        "class Piano(Instrument):\n",
        "    def play(self):\n",
        "        print(\"Playing the piano.\")\n",
        "\n",
        "# Runtime polymorphism\n",
        "def start_playing(instrument):\n",
        "    instrument.play()\n",
        "\n",
        "# Example usage\n",
        "g = Guitar()\n",
        "p = Piano()\n",
        "\n",
        "start_playing(g)  # Output: Strumming the guitar.\n",
        "start_playing(p)  # Output: Playing the piano.\n"
      ],
      "metadata": {
        "id": "eAJDlLyx3lvs"
      },
      "execution_count": null,
      "outputs": []
    },
    {
      "cell_type": "markdown",
      "source": [
        "Q7. Create a class MathOperations with a class method add_numbers() to add two numbers and a static\n",
        "method subtract_numbers() to subtract two numbers.\n",
        "\n",
        "--->"
      ],
      "metadata": {
        "id": "Dm7EbS3L3mfT"
      }
    },
    {
      "cell_type": "code",
      "source": [
        "class MathOperations:\n",
        "    @classmethod\n",
        "    def add_numbers(cls, a, b):\n",
        "        return a + b\n",
        "\n",
        "    @staticmethod\n",
        "    def subtract_numbers(a, b):\n",
        "        return a - b\n",
        "\n",
        "# Example usage\n",
        "print(\"Addition:\", MathOperations.add_numbers(10, 5))     # Output: 15\n",
        "print(\"Subtraction:\", MathOperations.subtract_numbers(10, 5))  # Output: 5\n"
      ],
      "metadata": {
        "id": "vjQOhJK83sN6"
      },
      "execution_count": null,
      "outputs": []
    },
    {
      "cell_type": "markdown",
      "source": [
        "Q8.  Implement a class Person with a class method to count the total number of persons created.\n",
        "\n",
        "--->"
      ],
      "metadata": {
        "id": "OoZvhJZg3zh6"
      }
    },
    {
      "cell_type": "code",
      "source": [
        "class Person:\n",
        "    count = 0  # Class variable to store the number of persons\n",
        "\n",
        "    def __init__(self, name):\n",
        "        self.name = name\n",
        "        Person.count += 1\n",
        "\n",
        "    @classmethod\n",
        "    def get_person_count(cls):\n",
        "        return cls.count\n",
        "\n",
        "# Example usage\n",
        "p1 = Person(\"Alice\")\n",
        "p2 = Person(\"Bob\")\n",
        "p3 = Person(\"Charlie\")\n",
        "\n",
        "print(\"Total persons created:\", Person.get_person_count())  # Output: 3\n"
      ],
      "metadata": {
        "id": "ZxWV2ztP36Jn"
      },
      "execution_count": null,
      "outputs": []
    },
    {
      "cell_type": "markdown",
      "source": [
        "Q9. Write a class Fraction with attributes numerator and denominator. Override the str method to display the\n",
        "fraction as \"numerator/denominator\".\n",
        "\n",
        "--->"
      ],
      "metadata": {
        "id": "KGSC9q0L36xI"
      }
    },
    {
      "cell_type": "code",
      "source": [
        "class Fraction:\n",
        "    def __init__(self, numerator, denominator):\n",
        "        self.numerator = numerator\n",
        "        self.denominator = denominator\n",
        "\n",
        "    def __str__(self):\n",
        "        return f\"{self.numerator}/{self.denominator}\"\n",
        "\n",
        "# Example usage\n",
        "f = Fraction(3, 4)\n",
        "print(f)  # Output: 3/4\n"
      ],
      "metadata": {
        "id": "LufCNiIV4BSh"
      },
      "execution_count": null,
      "outputs": []
    },
    {
      "cell_type": "markdown",
      "source": [
        "Q10. Demonstrate operator overloading by creating a class Vector and overriding the add method to add two\n",
        "vectors.\n",
        "\n",
        "--->"
      ],
      "metadata": {
        "id": "nt5yUFOe4B8R"
      }
    },
    {
      "cell_type": "code",
      "source": [
        "class Vector:\n",
        "    def __init__(self, x, y):\n",
        "        self.x = x\n",
        "        self.y = y\n",
        "\n",
        "    def __add__(self, other):\n",
        "        return Vector(self.x + other.x, self.y + other.y)\n",
        "\n",
        "    def __str__(self):\n",
        "        return f\"Vector({self.x}, {self.y})\"\n",
        "\n",
        "# Example usage\n",
        "v1 = Vector(2, 3)\n",
        "v2 = Vector(4, 5)\n",
        "v3 = v1 + v2\n",
        "\n",
        "print(v3)  # Output: Vector(6, 8)\n"
      ],
      "metadata": {
        "id": "OfPivduz4G6R"
      },
      "execution_count": null,
      "outputs": []
    },
    {
      "cell_type": "markdown",
      "source": [
        "Q11. Create a class Person with attributes name and age. Add a method greet() that prints \"Hello, my name is\n",
        "{name} and I am {age} years old.\"\n",
        "\n",
        "--->"
      ],
      "metadata": {
        "id": "VOALQrWI4NiT"
      }
    },
    {
      "cell_type": "code",
      "source": [
        "class Person:\n",
        "    def __init__(self, name, age):\n",
        "        self.name = name\n",
        "        self.age = age\n",
        "\n",
        "    def greet(self):\n",
        "        print(f\"Hello, my name is {self.name} and I am {self.age} years old.\")\n",
        "\n",
        "# Example usage\n",
        "p = Person(\"Alice\", 30)\n",
        "p.greet()  # Output: Hello, my name is Alice and I am 30 years old.\n"
      ],
      "metadata": {
        "id": "lRSKmi3L4PN4"
      },
      "execution_count": null,
      "outputs": []
    },
    {
      "cell_type": "markdown",
      "source": [
        "Q12.  Implement a class Student with attributes name and grades. Create a method average_grade() to compute\n",
        "the average of the grades.\n",
        "\n",
        "--->"
      ],
      "metadata": {
        "id": "-AO7k_Lc4VnS"
      }
    },
    {
      "cell_type": "code",
      "source": [
        "class Student:\n",
        "    def __init__(self, name, grades):\n",
        "        self.name = name\n",
        "        self.grades = grades\n",
        "\n",
        "    def average_grade(self):\n",
        "        return sum(self.grades) / len(self.grades) if self.grades else 0\n",
        "\n",
        "# Example usage\n",
        "s = Student(\"John\", [85, 90, 78, 92, 88])\n",
        "print(f\"{s.name}'s average grade: {s.average_grade():.2f}\")  # Output: John's average grade: 86.60\n"
      ],
      "metadata": {
        "id": "jUgHbHZ34bqq"
      },
      "execution_count": null,
      "outputs": []
    },
    {
      "cell_type": "markdown",
      "source": [
        "Q13.  Create a class Rectangle with methods set_dimensions() to set the dimensions and area() to calculate the\n",
        "area.\n",
        "\n",
        "--->"
      ],
      "metadata": {
        "id": "OJcRyZqr4cXS"
      }
    },
    {
      "cell_type": "code",
      "source": [
        "class Rectangle:\n",
        "    def __init__(self):\n",
        "        self.width = 0\n",
        "        self.height = 0\n",
        "\n",
        "    def set_dimensions(self, width, height):\n",
        "        self.width = width\n",
        "        self.height = height\n",
        "\n",
        "    def area(self):\n",
        "        return self.width * self.height\n",
        "\n",
        "# Example usage\n",
        "rect = Rectangle()\n",
        "rect.set_dimensions(5, 10)\n",
        "print(f\"Area of the rectangle: {rect.area()}\")  # Output: Area of the rectangle: 50\n"
      ],
      "metadata": {
        "id": "6nwsY9Eo4ink"
      },
      "execution_count": null,
      "outputs": []
    },
    {
      "cell_type": "markdown",
      "source": [
        "Q14.  Create a class Employee with a method calculate_salary() that computes the salary based on hours worked\n",
        "and hourly rate. Create a derived class Manager that adds a bonus to the salary.\n",
        "\n",
        "--->"
      ],
      "metadata": {
        "id": "QbngFE1R4jPe"
      }
    },
    {
      "cell_type": "code",
      "source": [
        "class Employee:\n",
        "    def __init__(self, name, hours_worked, hourly_rate):\n",
        "        self.name = name\n",
        "        self.hours_worked = hours_worked\n",
        "        self.hourly_rate = hourly_rate\n",
        "\n",
        "    def calculate_salary(self):\n",
        "        return self.hours_worked * self.hourly_rate\n",
        "\n",
        "class Manager(Employee):\n",
        "    def __init__(self, name, hours_worked, hourly_rate, bonus):\n",
        "        super().__init__(name, hours_worked, hourly_rate)\n",
        "        self.bonus = bonus\n",
        "\n",
        "    def calculate_salary(self):\n",
        "        base_salary = super().calculate_salary()\n",
        "        return base_salary + self.bonus\n",
        "\n",
        "# Example usage\n",
        "employee = Employee(\"John\", 40, 20)\n",
        "manager = Manager(\"Alice\", 40, 25, 500)\n",
        "\n",
        "print(f\"{employee.name}'s salary: ${employee.calculate_salary()}\")  # Output: John's salary: $800\n",
        "print(f\"{manager.name}'s salary (with bonus): ${manager.calculate_salary()}\")  # Output: Alice's salary (with bonus): $1200\n"
      ],
      "metadata": {
        "id": "doV2T1Ck4nGx"
      },
      "execution_count": null,
      "outputs": []
    },
    {
      "cell_type": "markdown",
      "source": [
        "Q15.  Create a class Product with attributes name, price, and quantity. Implement a method total_price() that\n",
        "calculates the total price of the product.\n",
        "\n",
        "--->"
      ],
      "metadata": {
        "id": "o2J2NiaR4q_j"
      }
    },
    {
      "cell_type": "code",
      "source": [
        "class Product:\n",
        "    def __init__(self, name, price, quantity):\n",
        "        self.name = name\n",
        "        self.price = price\n",
        "        self.quantity = quantity\n",
        "\n",
        "    def total_price(self):\n",
        "        return self.price * self.quantity\n",
        "\n",
        "# Example usage\n",
        "product = Product(\"Laptop\", 1000, 3)\n",
        "print(f\"Total price for {product.name}: ${product.total_price()}\")  # Output: Total price for Laptop: $3000\n"
      ],
      "metadata": {
        "id": "_OY-Aiul4yOB"
      },
      "execution_count": null,
      "outputs": []
    },
    {
      "cell_type": "markdown",
      "source": [
        "Q16. Create a class Animal with an abstract method sound(). Create two derived classes Cow and Sheep that\n",
        "implement the sound() method.\n",
        "\n",
        "--->"
      ],
      "metadata": {
        "id": "k91v2dy04y4s"
      }
    },
    {
      "cell_type": "code",
      "source": [
        "from abc import ABC, abstractmethod\n",
        "\n",
        "class Animal(ABC):\n",
        "    @abstractmethod\n",
        "    def sound(self):\n",
        "        pass\n",
        "\n",
        "class Cow(Animal):\n",
        "    def sound(self):\n",
        "        print(\"Moo\")\n",
        "\n",
        "class Sheep(Animal):\n",
        "    def sound(self):\n",
        "        print(\"Baa\")\n",
        "\n",
        "# Example usage\n",
        "cow = Cow()\n",
        "sheep = Sheep()\n",
        "\n",
        "cow.sound()  # Output: Moo\n",
        "sheep.sound()  # Output: Baa\n"
      ],
      "metadata": {
        "id": "v8z_Thgq42xa"
      },
      "execution_count": null,
      "outputs": []
    },
    {
      "cell_type": "markdown",
      "source": [
        "Q17. Create a class Book with attributes title, author, and year_published. Add a method get_book_info() that\n",
        "returns a formatted string with the book's details.\n",
        "\n",
        "--->"
      ],
      "metadata": {
        "id": "RyAp2Hrb466Z"
      }
    },
    {
      "cell_type": "code",
      "source": [
        "class Book:\n",
        "    def __init__(self, title, author, year_published):\n",
        "        self.title = title\n",
        "        self.author = author\n",
        "        self.year_published = year_published\n",
        "\n",
        "    def get_book_info(self):\n",
        "        return f\"Title: {self.title}, Author: {self.author}, Year Published: {self.year_published}\"\n",
        "\n",
        "# Example usage\n",
        "book = Book(\"1984\", \"George Orwell\", 1949)\n",
        "print(book.get_book_info())  # Output: Title: 1984, Author: George Orwell, Year Published: 1949\n"
      ],
      "metadata": {
        "id": "NwRb9JZb4-0r"
      },
      "execution_count": null,
      "outputs": []
    },
    {
      "cell_type": "markdown",
      "source": [
        "Q18. Create a class House with attributes address and price. Create a derived class Mansion that adds an\n",
        "attribute number_of_rooms.\n",
        "\n",
        "--->"
      ],
      "metadata": {
        "id": "fqQPgYbn5E0C"
      }
    },
    {
      "cell_type": "code",
      "source": [
        "class House:\n",
        "    def __init__(self, address, price):\n",
        "        self.address = address\n",
        "        self.price = price\n",
        "\n",
        "    def get_details(self):\n",
        "        return f\"Address: {self.address}, Price: ${self.price}\"\n",
        "\n",
        "class Mansion(House):\n",
        "    def __init__(self, address, price, number_of_rooms):\n",
        "        super().__init__(address, price)\n",
        "        self.number_of_rooms = number_of_rooms\n",
        "\n",
        "    def get_details(self):\n",
        "        return f\"Address: {self.address}, Price: ${self.price}, Rooms: {self.number_of_rooms}\"\n",
        "\n",
        "# Example usage\n",
        "house = House(\"123 Main St\", 250000)\n",
        "mansion = Mansion(\"456 Luxury Rd\", 1500000, 12)\n",
        "\n",
        "print(house.get_details())  # Output: Address: 123 Main St, Price: $250000\n",
        "print(mansion.get_details())  # Output: Address: 456 Luxury Rd, Price: $1500000, Rooms: 12\n"
      ],
      "metadata": {
        "id": "pWSLd9TD5IJ2"
      },
      "execution_count": null,
      "outputs": []
    }
  ]
}